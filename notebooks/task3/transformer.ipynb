{
 "cells": [
  {
   "cell_type": "code",
   "execution_count": 1,
   "metadata": {},
   "outputs": [],
   "source": [
    "import torch\n",
    "import torch.nn as nn\n",
    "import numpy as np\n",
    "import torch.nn.functional as F\n",
    "\n",
    "from model import *\n",
    "from util import *"
   ]
  },
  {
   "cell_type": "code",
   "execution_count": 2,
   "metadata": {},
   "outputs": [],
   "source": [
    "from train import *"
   ]
  },
  {
   "cell_type": "code",
   "execution_count": 3,
   "metadata": {},
   "outputs": [
    {
     "name": "stdout",
     "output_type": "stream",
     "text": [
      "epoch   50,loss 0.079, time 19.3 sec\n",
      "epoch  100,loss 0.056, time 19.5 sec\n",
      "epoch  150,loss 0.046, time 18.6 sec\n",
      "epoch  200,loss 0.065, time 19.5 sec\n",
      "epoch  250,loss 0.064, time 18.8 sec\n",
      "epoch  300,loss 0.047, time 19.6 sec\n",
      "What is your name ? . =>  .\n",
      "How are you ? =>  vous .\n",
      "I'm OK . => je vais bien .\n",
      "egg ! =>  !\n",
      "I like milk => je  .\n",
      "i am a student ! => suis-je  ?\n"
     ]
    }
   ],
   "source": [
    "train_and_test_transformer()"
   ]
  },
  {
   "cell_type": "code",
   "execution_count": null,
   "metadata": {},
   "outputs": [],
   "source": []
  }
 ],
 "metadata": {
  "kernelspec": {
   "display_name": "Python 3",
   "language": "python",
   "name": "python3"
  },
  "language_info": {
   "codemirror_mode": {
    "name": "ipython",
    "version": 3
   },
   "file_extension": ".py",
   "mimetype": "text/x-python",
   "name": "python",
   "nbconvert_exporter": "python",
   "pygments_lexer": "ipython3",
   "version": "3.6.9"
  }
 },
 "nbformat": 4,
 "nbformat_minor": 4
}
