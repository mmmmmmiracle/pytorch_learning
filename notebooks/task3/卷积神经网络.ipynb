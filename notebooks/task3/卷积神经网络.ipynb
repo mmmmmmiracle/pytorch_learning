{
 "cells": [
  {
   "cell_type": "code",
   "execution_count": 1,
   "metadata": {},
   "outputs": [],
   "source": [
    "import torch\n",
    "import torch.nn as nn\n",
    "import torch.nn.functional as F"
   ]
  },
  {
   "cell_type": "code",
   "execution_count": 20,
   "metadata": {},
   "outputs": [],
   "source": [
    "class LeNet(nn.Module):\n",
    "    def __init__(self):\n",
    "        super(LeNet, self).__init__()\n",
    "        self.conv = nn.Sequential(\n",
    "            nn.Conv2d(1, 6, 5, padding=2),\n",
    "            nn.Sigmoid(),\n",
    "            nn.AvgPool2d(2, 2),\n",
    "            nn.Conv2d(6, 16, 5),\n",
    "            nn.Sigmoid(),\n",
    "            nn.AvgPool2d(2, 2),\n",
    "        )\n",
    "        self.dense = nn.Sequential(\n",
    "            nn.Flatten(),\n",
    "            nn.Linear(16 * 5 * 5, 120),\n",
    "            nn.Sigmoid(),\n",
    "            nn.Linear(120, 84),\n",
    "            nn.Sigmoid(),\n",
    "            nn.Linear(84, 10),\n",
    "        )\n",
    "    def forward(self, X):\n",
    "        X = self.conv(X)\n",
    "        X = self.dense(X)\n",
    "        return X\n",
    "    \n",
    "class AlexNet(nn.Module):\n",
    "    def __init__(self):\n",
    "        super(AlexNet, self).__init__()\n",
    "        self.conv = nn.Sequential(\n",
    "            nn.conv\n",
    "        )"
   ]
  },
  {
   "cell_type": "code",
   "execution_count": 23,
   "metadata": {},
   "outputs": [],
   "source": [
    "lenet = LeNet()\n",
    "X = torch.ones([10, 1, 28, 28])\n",
    "Y = lenet(X)"
   ]
  },
  {
   "cell_type": "code",
   "execution_count": 26,
   "metadata": {},
   "outputs": [
    {
     "data": {
      "text/plain": [
       "tensor([[-0.4051,  0.0370,  0.4433, -0.3593,  0.4907, -0.1952,  0.3970,  0.1496,\n",
       "          0.0292,  0.2897],\n",
       "        [-0.4051,  0.0370,  0.4433, -0.3593,  0.4907, -0.1952,  0.3970,  0.1496,\n",
       "          0.0292,  0.2897],\n",
       "        [-0.4051,  0.0370,  0.4433, -0.3593,  0.4907, -0.1952,  0.3970,  0.1496,\n",
       "          0.0292,  0.2897],\n",
       "        [-0.4051,  0.0370,  0.4433, -0.3593,  0.4907, -0.1952,  0.3970,  0.1496,\n",
       "          0.0292,  0.2897],\n",
       "        [-0.4051,  0.0370,  0.4433, -0.3593,  0.4907, -0.1952,  0.3970,  0.1496,\n",
       "          0.0292,  0.2897],\n",
       "        [-0.4051,  0.0370,  0.4433, -0.3593,  0.4907, -0.1952,  0.3970,  0.1496,\n",
       "          0.0292,  0.2897],\n",
       "        [-0.4051,  0.0370,  0.4433, -0.3593,  0.4907, -0.1952,  0.3970,  0.1496,\n",
       "          0.0292,  0.2897],\n",
       "        [-0.4051,  0.0370,  0.4433, -0.3593,  0.4907, -0.1952,  0.3970,  0.1496,\n",
       "          0.0292,  0.2897],\n",
       "        [-0.4051,  0.0370,  0.4433, -0.3593,  0.4907, -0.1952,  0.3970,  0.1496,\n",
       "          0.0292,  0.2897],\n",
       "        [-0.4051,  0.0370,  0.4433, -0.3593,  0.4907, -0.1952,  0.3970,  0.1496,\n",
       "          0.0292,  0.2897]], grad_fn=<AddmmBackward>)"
      ]
     },
     "execution_count": 26,
     "metadata": {},
     "output_type": "execute_result"
    }
   ],
   "source": [
    "Y"
   ]
  },
  {
   "cell_type": "code",
   "execution_count": null,
   "metadata": {},
   "outputs": [],
   "source": []
  }
 ],
 "metadata": {
  "kernelspec": {
   "display_name": "Python 3",
   "language": "python",
   "name": "python3"
  },
  "language_info": {
   "codemirror_mode": {
    "name": "ipython",
    "version": 3
   },
   "file_extension": ".py",
   "mimetype": "text/x-python",
   "name": "python",
   "nbconvert_exporter": "python",
   "pygments_lexer": "ipython3",
   "version": "3.6.9"
  }
 },
 "nbformat": 4,
 "nbformat_minor": 4
}
