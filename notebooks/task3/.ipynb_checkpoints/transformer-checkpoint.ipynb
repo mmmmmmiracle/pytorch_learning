{
 "cells": [
  {
   "cell_type": "code",
   "execution_count": 1,
   "metadata": {},
   "outputs": [],
   "source": [
    "import torch\n",
    "import torch.nn as nn\n",
    "import numpy as np\n",
    "import math\n",
    "\n",
    "from model import *\n",
    "from util import *"
   ]
  },
  {
   "cell_type": "code",
   "execution_count": 6,
   "metadata": {},
   "outputs": [],
   "source": [
    "def transpose_qkv(X, num_heads):\n",
    "    X = X.view(X.shape[0], X.shape[1], num_heads, -1)\n",
    "    X = X.transpose(2, 1).contiguous()\n",
    "    output = X.view(-1, X.shape[2], X.shape[3])\n",
    "    return output\n",
    "\n",
    "def transpose_output(X, num_heads):\n",
    "    X = X.view(-1, num_heads, X.shape[1], X.shape[2])\n",
    "    X = X.transpose(2, 1).contiguous()\n",
    "    return X.view(X.shape[0], X.shape[1], -1)\n",
    "\n",
    "def handle_valid_length(valid_length, num_heads):\n",
    "    if valid_length is not None:\n",
    "        # Copy valid_length by num_heads times\n",
    "        device = valid_length.device\n",
    "        valid_length = valid_length.cpu().numpy() if valid_length.is_cuda else valid_length.numpy()\n",
    "        if valid_length.ndim == 1:\n",
    "            valid_length = torch.FloatTensor(np.tile(valid_length, num_heads))\n",
    "        else:\n",
    "            valid_length = torch.FloatTensor(np.tile(valid_length, (num_heads,1)))\n",
    "        valid_length = valid_length.to(device)\n",
    "    return valid_length\n",
    "\n",
    "class MultiHeadAttention(nn.Module):\n",
    "    def __init__(self, input_size, hidden_size, num_heads, dropout, **kwargs):\n",
    "        super(MultiHeadAttention, self).__init__(**kwargs)\n",
    "        self.num_heads = num_heads\n",
    "        self.attention = DotProductAttention(dropout)\n",
    "        self.wq = nn.Linear(input_size, hidden_size, bias=False)\n",
    "        self.wk = nn.Linear(input_size, hidden_size, bias=False)\n",
    "        self.wv = nn.Linear(input_size, hidden_size, bias=False)\n",
    "        self.wo = nn.Linear(hidden_size, hidden_size, bias=False)\n",
    "        \n",
    "    def forward(self, query, key, value, valid_length):\n",
    "        query = transpose_qkv(self.wq(query), self.num_heads)\n",
    "        key      = transpose_qkv(self.wk(key), self.num_heads)\n",
    "        value  = transpose_qkv(self.wv(value), self.num_heads)\n",
    "        valid_length = handle_valid_length(valid_length, self.num_heads)\n",
    "        output = self.attention(query, key, value, valid_length)\n",
    "        output_concat = transpose_output(output, self.num_heads)\n",
    "        return self.wo(output_concat)"
   ]
  },
  {
   "cell_type": "code",
   "execution_count": 7,
   "metadata": {},
   "outputs": [
    {
     "name": "stdout",
     "output_type": "stream",
     "text": [
      "torch.Size([2, 4, 9])\n"
     ]
    },
    {
     "data": {
      "text/plain": [
       "torch.Size([2, 4, 9])"
      ]
     },
     "execution_count": 7,
     "metadata": {},
     "output_type": "execute_result"
    }
   ],
   "source": [
    "cell = MultiHeadAttention(5, 9, 3, 0.5)\n",
    "X = torch.ones((2, 4, 5))\n",
    "valid_length = torch.FloatTensor([2, 3])\n",
    "cell(X, X, X, valid_length).shape"
   ]
  },
  {
   "cell_type": "code",
   "execution_count": null,
   "metadata": {},
   "outputs": [],
   "source": []
  },
  {
   "cell_type": "code",
   "execution_count": null,
   "metadata": {},
   "outputs": [],
   "source": []
  }
 ],
 "metadata": {
  "kernelspec": {
   "display_name": "Python 3",
   "language": "python",
   "name": "python3"
  },
  "language_info": {
   "codemirror_mode": {
    "name": "ipython",
    "version": 3
   },
   "file_extension": ".py",
   "mimetype": "text/x-python",
   "name": "python",
   "nbconvert_exporter": "python",
   "pygments_lexer": "ipython3",
   "version": "3.6.9"
  }
 },
 "nbformat": 4,
 "nbformat_minor": 4
}
